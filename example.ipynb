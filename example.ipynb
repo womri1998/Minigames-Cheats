{
 "cells": [
  {
   "metadata": {
    "ExecuteTime": {
     "end_time": "2025-01-29T13:56:59.595849Z",
     "start_time": "2025-01-29T13:56:59.062612Z"
    }
   },
   "cell_type": "code",
   "source": [
    "from parsers.octordle_parser import get_current_soup, get_game_board\n",
    "from word_fetchers.english_fetcher import EnglishFetcher\n",
    "from wordle_solver import WordleSolver"
   ],
   "id": "42f03b8a7f272fea",
   "outputs": [],
   "execution_count": 2
  },
  {
   "metadata": {
    "ExecuteTime": {
     "end_time": "2025-01-29T13:58:46.059401Z",
     "start_time": "2025-01-29T13:58:43.593989Z"
    }
   },
   "cell_type": "code",
   "source": [
    "game_board = get_game_board(get_current_soup())\n",
    "all_words = EnglishFetcher(5).get_filtered_words()\n",
    "solver = WordleSolver(all_words)\n",
    "for i, board in enumerate(game_board.boards):\n",
    "    print(i)\n",
    "    board.rows[-1].print()\n",
    "    print(solver.possible_guesses(board))"
   ],
   "id": "caff33d88497957",
   "outputs": [
    {
     "name": "stdout",
     "output_type": "stream",
     "text": [
      "0\n",
      "\u001B[42m B \u001B[0m\u001B[42m A \u001B[0m\u001B[42m Y \u001B[0m\u001B[42m O \u001B[0m\u001B[42m U \u001B[0m\n",
      "['BAYOU']\n",
      "1\n",
      "\u001B[42m U \u001B[0m\u001B[42m S \u001B[0m\u001B[42m I \u001B[0m\u001B[42m N \u001B[0m\u001B[42m G \u001B[0m\n",
      "['USING']\n",
      "2\n",
      "\u001B[42m T \u001B[0m\u001B[42m U \u001B[0m\u001B[42m B \u001B[0m\u001B[42m A \u001B[0m\u001B[42m L \u001B[0m\n",
      "['TUBAL']\n",
      "3\n",
      "\u001B[42m T \u001B[0m\u001B[42m H \u001B[0m\u001B[42m E \u001B[0m\u001B[42m T \u001B[0m\u001B[42m A \u001B[0m\n",
      "['THETA']\n",
      "4\n",
      "\u001B[100m U \u001B[0m\u001B[100m S \u001B[0m\u001B[100m I \u001B[0m\u001B[100m N \u001B[0m\u001B[100m G \u001B[0m\n",
      "['HALVE']\n",
      "5\n",
      "\u001B[100m U \u001B[0m\u001B[100m S \u001B[0m\u001B[100m I \u001B[0m\u001B[100m N \u001B[0m\u001B[100m G \u001B[0m\n",
      "['FLAKY']\n",
      "6\n",
      "\u001B[42m S \u001B[0m\u001B[42m C \u001B[0m\u001B[42m A \u001B[0m\u001B[42m M \u001B[0m\u001B[42m P \u001B[0m\n",
      "['SCAMP']\n",
      "7\n",
      "\u001B[42m K \u001B[0m\u001B[42m N \u001B[0m\u001B[42m E \u001B[0m\u001B[42m L \u001B[0m\u001B[42m T \u001B[0m\n",
      "['KNELT']\n"
     ]
    }
   ],
   "execution_count": 11
  }
 ],
 "metadata": {
  "kernelspec": {
   "display_name": "Python 3",
   "language": "python",
   "name": "python3"
  },
  "language_info": {
   "codemirror_mode": {
    "name": "ipython",
    "version": 2
   },
   "file_extension": ".py",
   "mimetype": "text/x-python",
   "name": "python",
   "nbconvert_exporter": "python",
   "pygments_lexer": "ipython2",
   "version": "2.7.6"
  }
 },
 "nbformat": 4,
 "nbformat_minor": 5
}
